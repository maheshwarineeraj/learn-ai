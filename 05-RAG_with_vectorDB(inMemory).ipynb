{
 "cells": [
  {
   "cell_type": "markdown",
   "id": "00a24d7d",
   "metadata": {},
   "source": [
    "# RAG with Vector Databases\n",
    "\n",
    "## Overview\n",
    "This notebook demonstrates building a complete, production-ready RAG (Retrieval-Augmented Generation) system using vector databases. You'll learn to extract, process, and query real web content for accurate AI responses.\n",
    "\n",
    "## Learning Objectives\n",
    "- Build a complete RAG pipeline from web data to AI responses\n",
    "- Understand vector database indexing and retrieval\n",
    "- Handle context window limitations in production systems\n",
    "- Create persistent knowledge bases for reuse\n",
    "- Implement semantic search for accurate context retrieval\n",
    "\n",
    "## Key Concepts\n",
    "- **FAISS Vector Database**: Fast similarity search and clustering\n",
    "- **Web Data Processing**: Extract and chunk web content\n",
    "- **Context Window Management**: Handling token limits effectively\n",
    "- **Production RAG Pipeline**: End-to-end retrieval and generation\n",
    "- **Persistent Storage**: Save and reload vector databases"
   ]
  },
  {
   "cell_type": "markdown",
   "id": "22a33b36",
   "metadata": {},
   "source": [
    "## Step 1: Installing Required Dependencies\n",
    "\n",
    "This notebook requires additional packages for vector databases and web scraping:\n",
    "- **faiss-cpu**: Fast similarity search library for vector databases\n",
    "- **beautifulsoup4**: HTML parsing for web content extraction\n",
    "- **langchain-community**: Community tools including document loaders"
   ]
  },
  {
   "cell_type": "code",
   "execution_count": 1,
   "id": "d4072206",
   "metadata": {},
   "outputs": [],
   "source": [
    "# extra libs\n",
    "# ! pip install faiss-cpu beautifulsoup4 langchain-community"
   ]
  },
  {
   "cell_type": "markdown",
   "id": "d4451320",
   "metadata": {},
   "source": [
    "## Step 2: Environment Configuration\n",
    "\n",
    "Two options for running the RAG system:\n",
    "- **Azure OpenAI** (commented out) - Production-grade embeddings and LLM\n",
    "- **LM Studio** (active) - Local development with simulated embeddings\n",
    "\n",
    "We use a larger embedding size (8000) for better document representation in this complex RAG scenario."
   ]
  },
  {
   "cell_type": "code",
   "execution_count": 2,
   "id": "13428d99",
   "metadata": {},
   "outputs": [],
   "source": [
    "# # with Azure OpenAI and LangChain\n",
    "\n",
    "# from langchain_openai import AzureOpenAIEmbeddings\n",
    "# from langchain_community.vectorstores import FAISS\n",
    "# from langchain_community.document_loaders import WebBaseLoader\n",
    "# from langchain_openai import AzureChatOpenAI              # Azure OpenAI LLM\n",
    "# from langchain_core.prompts import ChatPromptTemplate     # Structured prompts\n",
    "# from langchain_core.output_parsers import StrOutputParser # Clean output parsing\n",
    "# from langchain_core.runnables import RunnablePassthrough  # Data passing utilities\n",
    "\n",
    "# # Environment and configuration\n",
    "# from dotenv import load_dotenv\n",
    "# import os\n",
    "\n",
    "# # Load environment variables from .env file\n",
    "# load_dotenv()\n",
    "\n",
    "# embeddings = AzureOpenAIEmbeddings(\n",
    "#     deployment=\"text-embedding-3-large\",          # Deployment name in Azure\n",
    "#     azure_endpoint=os.getenv(\"AZURE_OPENAI_ENDPOINT\"),      # Your Azure endpoint\n",
    "#     api_version=os.getenv(\"AZURE_OPENAI_API_VERSION\"),      # API version\n",
    "#     api_key=os.getenv(\"AZURE_OPENAI_API_KEY\"),              # Authentication key\n",
    "# )\n",
    "\n",
    "# llm = AzureChatOpenAI(\n",
    "#     azure_endpoint=os.getenv(\"AZURE_OPENAI_ENDPOINT\"),          \n",
    "#     azure_deployment=os.getenv(\"AZURE_OPENAI_DEPLOYMENT_NAME\"), \n",
    "#     api_version=os.getenv(\"AZURE_OPENAI_API_VERSION\"),          \n",
    "#     api_key=os.getenv(\"AZURE_OPENAI_API_KEY\"),                  \n",
    "# )"
   ]
  },
  {
   "cell_type": "markdown",
   "id": "ce2190c0",
   "metadata": {},
   "source": [
    "### Option 1: Azure OpenAI Configuration (Commented Out)\n",
    "Production setup with high-quality embeddings and large language models."
   ]
  },
  {
   "cell_type": "markdown",
   "id": "8015c198",
   "metadata": {},
   "source": [
    "### Option 2: LM Studio Configuration (Active)\n",
    "Local development setup with simulated embeddings for learning RAG concepts without external dependencies."
   ]
  },
  {
   "cell_type": "code",
   "execution_count": 3,
   "id": "77a49722",
   "metadata": {},
   "outputs": [
    {
     "name": "stderr",
     "output_type": "stream",
     "text": [
      "USER_AGENT environment variable not set, consider setting it to identify your requests.\n"
     ]
    }
   ],
   "source": [
    "# with local LM Studio and LangChain\n",
    "\n",
    "from langchain_core.embeddings import DeterministicFakeEmbedding\n",
    "from langchain_community.vectorstores import FAISS\n",
    "from langchain_community.document_loaders import WebBaseLoader\n",
    "from langchain_openai import ChatOpenAI\n",
    "from langchain_core.prompts import ChatPromptTemplate\n",
    "from langchain_core.output_parsers import StrOutputParser\n",
    "from langchain_core.runnables import RunnablePassthrough\n",
    "\n",
    "embeddings = DeterministicFakeEmbedding(size=4096)\n",
    "\n",
    "llm = ChatOpenAI(\n",
    "    base_url=\"http://localhost:1234/v1\",\n",
    "    api_key=\"not-needed\"  # LM Studio doesn't require an API key\n",
    ")"
   ]
  },
  {
   "cell_type": "markdown",
   "id": "d110c902",
   "metadata": {},
   "source": [
    "# Stage 1: Building the Vector Database\n",
    "\n",
    "This stage demonstrates the **\"Indexing\"** phase of RAG:\n",
    "1. **Extract**: Load content from web sources\n",
    "2. **Split**: Break content into manageable chunks  \n",
    "3. **Embed**: Convert chunks to vector representations\n",
    "4. **Store**: Save vectors in searchable database\n",
    "5. **Persist**: Save database for future use\n",
    "\n",
    "We'll use Wikipedia as our data source to build a knowledge base about \"Kalki 2898 AD\"."
   ]
  },
  {
   "cell_type": "code",
   "execution_count": 4,
   "id": "f9d5c8d4",
   "metadata": {},
   "outputs": [],
   "source": [
    "web_page = \"https://en.wikipedia.org/wiki/Kalki_2898_AD\""
   ]
  },
  {
   "cell_type": "markdown",
   "id": "bfa2a3b9",
   "metadata": {
    "vscode": {
     "languageId": "markdown"
    }
   },
   "source": [
    "## Step 1: Data Loading and Processing\n",
    "\n",
    "In this step, we'll load the webpage content and process it into manageable chunks for our vector database. The WebBaseLoader will:\n",
    "\n",
    "- **Extract Content**: Download and parse the HTML from the Wikipedia page\n",
    "- **Clean Data**: Remove HTML tags and extract readable text\n",
    "- **Split Documents**: Break content into smaller, searchable chunks\n",
    "- **Prepare for Indexing**: Format chunks for vector embedding\n",
    "\n",
    "### Why Document Chunking Matters:\n",
    "- **Context Windows**: LLMs have token limits (4096, 8192, etc.) \n",
    "- **Retrieval Precision**: Smaller chunks improve search accuracy\n",
    "- **Memory Efficiency**: Better for vector storage and similarity search\n",
    "- **Answer Quality**: Focused chunks lead to more relevant responses\n",
    "\n",
    "The `load_and_split()` method automatically handles the chunking process using intelligent text splitting strategies."
   ]
  },
  {
   "cell_type": "code",
   "execution_count": 5,
   "id": "327f6ea6",
   "metadata": {},
   "outputs": [],
   "source": [
    "loader = WebBaseLoader(web_page)\n",
    "# documents = loader.load()\n",
    "chunked_documents = loader.load_and_split()"
   ]
  },
  {
   "cell_type": "code",
   "execution_count": 6,
   "id": "a0365fce",
   "metadata": {},
   "outputs": [
    {
     "name": "stdout",
     "output_type": "stream",
     "text": [
      "🌐 Total chunks from webpage: 22\n",
      "page_content='Pre-production\n",
      "Ashwin co-wrote the film's script along with Rutham Samar, Sai Madhav Burra and B. S. Sarawagna Kumar, in his second consecutive film with Samar and Burra after Mahanati.[30][31] A muhurat pooja ceremony was held on 24 July 2021 at Ramoji Film City in Hyderabad with the presence of the film's cast and crew. The working title was revealed to have been changed to Project K the same day.[21][32][33] Ashwin stated that the film needed high-end technology and futuristic vehicles to be developed for the film. Although they can be recreated using computer-generated imagery (CGI), the director opted to build these vehicles from scratch.[34]\n",
      "In March 2022, Ashwin requested businessman Anand Mahindra to provide technical support to build such type of vehicles.[35] A few days later, Mahindra responded that their company Mahindra & Mahindra would assist the production team from their Mahindra Research Valley campus in Chennai.[36] In July 2021, the makers erected a futuristic set at Ramoji Film City in Hyderabad where a significant portion of filming is expected to take place.[37] A. R. Rahman had been initially approached, in August 2020, to compose music for the film but the talks fell out.[38]\n",
      "Ashwin retained most of his technicians, including composer Mickey J. Meyer, editor Kotagiri Venkateswara Rao, production designer Nithin Zihani Choudhary, cinematographer Dani Sanchez-Lopez, costume designers Thota Vijay Bhaskar, Shaleena Nathani and Sahithi Patha.[39] However, Serbian cinematographer, Djordje Stojiljkovic,[40] replaced Dani Sanchez-Lopez as the official cinematographer of the film. In February 2023, Santhosh Narayanan replaced Meyer as the composer.[41] Andreas Nguyen was chosen as the stunt choreographer of the film.[42] Singeetam Srinivasa Rao joined as a mentor, contributing elements of his planned script on Lord Krishna and providing creative inputs to the project.[43][44]\n",
      "\n",
      "Casting\n",
      "Deepika Padukone, Amitabh Bachchan, and Kamal Haasan play crucial roles in the film\n",
      "Prabhas would sport long hair and beard, with reporters reminiscing his look in the film with Baahubali.[45][46] Deepika Padukone was cast as the female lead,[47] in her Telugu film debut despite having starred in the unreleased Love 4 Ever.[48] Amitabh Bachchan was confirmed to play an important role, in his Telugu film debut as he had previously only made cameo appearances in Manam (2014) and Sye Raa Narasimha Reddy (2019).[49] Ashwin stated that his role was \"so important that his character's name [Ashwatthama] was the working title of an early draft\".[50] Kamal Haasan also joined the film in an important role,[51] while Disha Patani was also cast in an important role.[52] The film marks their return to Telugu cinema after Subha Sankalpam (1995) and Loafer (2015), respectively.[51][52][e]\n",
      "Rajendra Prasad,[54] Shobhana,[55] Saswata Chatterjee,[56] Brahmanandam,[57] and Pasupathy were cast in important roles.[58] Anna Ben made her Telugu debut with this film.[59] Keerthy Suresh and Arjun Das appeared in voice roles respectively; former as Bujji and latter as Lord Krishna.[60][61] Initially, Keerthy Suresh was offered another undisclosed role, but she rejected it and later accepted the voice-role.[62] Harshith Malgireddy, Kavya Ramachandran, Ayaz Pasha, Anil George, Keya Nair, Vinay Kumar, Venkata Ramana, Hamish Boyd and Sanghawa Shin were present during the film's preliminary shooting schedule.[63] Dulquer Salmaan, Vijay Deverakonda, Mrunal Thakur, S. S. Rajamouli, Ram Gopal Varma and K. V. Anudeep briefly had respective cameo appearances.[16]' metadata={'source': 'https://en.wikipedia.org/wiki/Kalki_2898_AD', 'title': 'Kalki 2898 AD - Wikipedia', 'language': 'en'}\n"
     ]
    }
   ],
   "source": [
    "print(f\"🌐 Total chunks from webpage: {len(chunked_documents)}\")\n",
    "print(chunked_documents[5])"
   ]
  },
  {
   "cell_type": "markdown",
   "id": "bdbf7b64",
   "metadata": {},
   "source": [
    "### create in memeory vector store"
   ]
  },
  {
   "cell_type": "code",
   "execution_count": 7,
   "id": "09005807",
   "metadata": {},
   "outputs": [],
   "source": [
    "vector_store = FAISS.from_documents(\n",
    "    chunked_documents,  # Our preprocessed document chunks\n",
    "    embeddings       # The embedding model to use\n",
    ")"
   ]
  },
  {
   "cell_type": "code",
   "execution_count": 8,
   "id": "08265395",
   "metadata": {},
   "outputs": [
    {
     "name": "stdout",
     "output_type": "stream",
     "text": [
      "\n",
      "💾 Vector Database Summary:\n",
      "   - Source: https://en.wikipedia.org/wiki/Kalki_2898_AD\n",
      "   - Chunks: 22\n",
      "   - Technology: FAISS + Embeddings\n",
      "   - Capability: Semantic search across movie information\n"
     ]
    }
   ],
   "source": [
    "print(f\"\\n💾 Vector Database Summary:\")\n",
    "print(f\"   - Source: {web_page}\")\n",
    "print(f\"   - Chunks: {len(chunked_documents)}\")\n",
    "print(f\"   - Technology: FAISS + Embeddings\")\n",
    "print(f\"   - Capability: Semantic search across movie information\")"
   ]
  },
  {
   "cell_type": "markdown",
   "id": "1ee4c147",
   "metadata": {},
   "source": [
    "## Important: Context Window Management\n",
    "\n",
    "### The Token Limit Challenge\n",
    "When building RAG systems, you'll encounter context window limitations:\n",
    "- **LM Studio Model**: Often 4096 tokens max\n",
    "- **Retrieved Content**: Can easily exceed this limit\n",
    "- **Error Result**: \"BadRequestError: context overflows\"\n",
    "\n",
    "### Solutions:\n",
    "1. **Limit Retrieval**: Use `search_kwargs={\"k\": 2}` to get fewer chunks\n",
    "2. **Chunk Smaller**: Break documents into smaller pieces\n",
    "3. **Model Upgrade**: Use models with larger context windows\n",
    "4. **Content Filtering**: Pre-process to remove irrelevant content\n",
    "\n",
    "### Our Approach:\n",
    "We limit retrieval to 2 most relevant chunks to stay within token limits while maintaining answer quality."
   ]
  },
  {
   "cell_type": "markdown",
   "id": "21572e52",
   "metadata": {
    "vscode": {
     "languageId": "markdown"
    }
   },
   "source": [
    "## Step 2: Testing Vector Database Search\n",
    "\n",
    "Before building the complete RAG chain, let's test our vector database's search capabilities. This demonstrates how semantic search works and helps us understand what context will be retrieved for different types of questions.\n",
    "\n",
    "### Understanding Semantic Search\n",
    "- **Keyword Search**: Matches exact words only\n",
    "- **Semantic Search**: Understands meaning and context\n",
    "- **Vector Similarity**: Finds conceptually related content\n",
    "- **Relevance Ranking**: Returns most similar chunks first\n",
    "\n",
    "### Test Strategy\n",
    "We'll test different query types to see how the vector database retrieves relevant information:\n",
    "1. **Plot Information**: Testing story-related queries\n",
    "2. **Cast Information**: Testing actor-related queries  \n",
    "3. **Technical Details**: Testing production information\n",
    "\n",
    "This helps us verify that our knowledge base can find appropriate context before we connect it to the language model."
   ]
  },
  {
   "cell_type": "code",
   "execution_count": 9,
   "id": "b74f9d8c",
   "metadata": {},
   "outputs": [
    {
     "name": "stdout",
     "output_type": "stream",
     "text": [
      "📄 CHUNK 1:\n",
      "Content: Critical response\n",
      "While Deccan Chronicle mentioned mixed reviews and WION wrote the film \"failed to impress\", India Today commented that the reviews were positive.[166][167][168] On the review aggregator website Rotten Tomatoes, 77% of 39 critics' reviews are positive, with an average rating of 7.1/10. The website's consensus reads: \"A colourful spectacle that competes with Hollywood blockbusters while retaining its own distinctive flavor, Kalki 2898 AD marks a rousing breakthrough in Tollywood sci-fi cinema.\"[169] Metacritic, which uses a weighted average, assigned the film a score of 65 out of 100, based on 8 critics, indicating \"generally favorable\" reviews.[170]\n",
      "A critic for Bollywood Hungama rated the film 4 stars out of 5 and wrote, \"On the whole, Kalki 2898 AD stands as a grandiose spectacle that depicts the future like never before in Indian cinema and also merges mythology seamlessly, thereby delivering a unique experience to the audiences.\"[171] Chirag Sehgal of News18 gave 4/5 stars and wrote, \"It combines action with visual spectacle and mythology with technology and science – which makes the film worth watching.\"[172] Goutam S of Pinkvilla gave 4/5 stars and wrote, \"If you are a lover of films which has a grand scale, [sic] epic narration, amazing visuals, groundbreaking performances, and unbelievable storytelling, then surely watch this feast of a movie in the screens near you.\"[173] The Guardian gave a rating of 4 out of 5, describing it as a \"maximalist sci-fi epic that mixes Mahabharata with Mad Max.\"[174] Janani K of India Today gave 3.5/5 stars and wrote, \"Like Baahubali, Kalki 2898 AD ends on a cliffhanger and paves the way for a new cinematic world altogether. The surprise cameos, even though leaked by Prabhas himself, were perfect theatrical moments.\"[175] Collider in its review said, \"Kalki 2898 AD is a unique sci-fi epic that successfully combines supernatural elements with cutting-edge technology\", while appreciating performances of the lead cast particularly Prabhas and Bachchan, and the screenplay by Nag Ashwin.[176]\n",
      "Sukanya Verma of Rediff rated the film 3.5 out of 5 stars and wrote, \"Prabhas may be the face of Kalki 2898 AD's heroics but the real bang for your buck is delivered in Amitabh Bachchan's indefatigable energy providing Kalki's biggest wolf-whistle moments.\"[177] Ronek Kotecha of The Times of India gave 3/5 stars and wrote, \"The film's visual quality is so high that it overshadows many of its obvious flaws by engaging the audience into the atmospherics of the make-believe world of Kasi and the Complex.\"[178] Sashidar Adivi of Times Now gave 3/5 stars and wrote, \"Overall, the film is a VFX wonder. The setup and the universe are brilliant, however, the writing needs introspection.\"[179] Avad Mohammed of OTTPlay gave 3/5 stars and wrote, \"On the whole, Kalki 2898 AD is a technically brilliant film with never-before-seen visuals in an Indian film. The presence of A-listers and amazing action episodes make for a big-screen watch. Just ignore the slow pace.\"[180]\n",
      "Source: {'source': 'https://en.wikipedia.org/wiki/Kalki_2898_AD', 'title': 'Kalki 2898 AD - Wikipedia', 'language': 'en'}\n",
      "--------------------------------------------------------------------------------\n",
      "📄 CHUNK 2:\n",
      "Content: Cast\n",
      "Adapted from the opening and closing credits:[10]\n",
      "\n",
      "\n",
      "Amitabh Bachchan as Ashwatthama: The son of sage and warrior Dronacharya and an ally to the Kauravas, who was cursed with immortality for attempting to kill an unborn Parikshith. He has since roamed the Earth for nearly six thousand years.\n",
      "Kamal Haasan as Supreme Yaskin: A totalitarian god-king ruling the post-apocalyptic world from the \"Complex\".\n",
      "Prabhas in a dual role as:\n",
      "Bhairava: A bounty hunter\n",
      "Karna: An ancient warrior who was allied with the Kauravas; the previous life of Bhairava\n",
      "Deepika Padukone as SUM-80 alias Sumathi: A pregnant lab subject of Project K and the prophesied mother of Kalki (voice by Sobhita Dhulipala)[11]\n",
      "Disha Patani as Roxie\n",
      "Brahmanandam as Rajan: Bhairava's landlord\n",
      "Rajendra Prasad as Rumi\n",
      "Shobana as Mariam: The leader of Shambhala\n",
      "Pasupathy as Veeran: A rebel from Shambhala\n",
      "Anil George as Counsellor Bani\n",
      "Saswata Chatterjee as Commander Manas\n",
      "Anna Ben as Kyra: A rebel from Shambhala\n",
      "Harshith Reddy as Luke: A rebel from Shambhala\n",
      "Kavya Ramachandran as LYL-33: An undercover rebel at the Complex\n",
      "Ayaz Pasha as Ajju: A rebel from Shambhala\n",
      "Keya Nair as Raia\n",
      "Humhu as Krane: A bounty hunter\n",
      "Vinay Kumar as Commander Sirius[c]\n",
      "Sanjay Ratha as Commander Shatru\n",
      "Venkata Ramana as Ronnie\n",
      "Hamish Boyd as Yuri\n",
      "Advait Chauhan as Isaac\n",
      "Sanghwa Shin as Leon\n",
      "Anoushka Maskey as GS-Q43\n",
      "Djordje Stojiljkovic as Garuda driver\n",
      "Keerthy Suresh as BU-JZ-1 alias Bujji: Bhairava's companion AI droid / vehicle (Voice-over)[d]\n",
      "Krishnakumar as Krishna: An incarnation of Vishnu, who was born during the time of Mahabharata to bring peace by aiding the Pandavas; served as Prince Arjuna's charioteer and strategist during the Kurukshetra War (voice by Arjun Das).[13] Krishna's character appears as silhouette and without an identity. Speaking about this decision, Ashwin said that it would otherwise just become a person or an actor but the idea was to keep him dark-skinned, silhouetted, and a mysterious figure.[14]\n",
      "Cameo appearances\n",
      "Source: {'source': 'https://en.wikipedia.org/wiki/Kalki_2898_AD', 'title': 'Kalki 2898 AD - Wikipedia', 'language': 'en'}\n",
      "--------------------------------------------------------------------------------\n",
      "📄 CHUNK 3:\n",
      "Content: ^ Adivi, Sashidhar (7 March 2022). \"Nag Ashwin asked for help, Anand Mahindra obliged\". Deccan Chronicle. Archived from the original on 8 June 2022.\n",
      "\n",
      "^ Pandey, Devasheesh (4 March 2022). \"Prabhas, Deepika Padukone's Project K director seeks 'tech-related' help from Anand Mahindra\". India TV News. Archived from the original on 8 June 2022.\n",
      "\n",
      "^ \"Anand Mahindra excited about Deepika-Prabhas starrer 'Project K', says it will beat Hollywood\". The Economic Times. 14 March 2022. Archived from the original on 6 July 2022.\n",
      "\n",
      "^ \"With 400 crore budget, Prabhas-Deepika's next to break Baahubali record\". The Siasat Daily. 31 July 2021. Archived from the original on 8 June 2022.\n",
      "\n",
      "^ Manjula (5 August 2020). \"AR Rahman Whopping Remuneration For Deepika-Prabhas Movie of Nag Ashwin\". The Hans India. Archived from the original on 8 June 2022.\n",
      "\n",
      "^ \"Makers of Nag Ashwin-Prabhas movie rope in 'Mahanati' cinematographer, music composer\". The New Indian Express. 29 January 2021. Archived from the original on 8 June 2022.\n",
      "\n",
      "^ Dundoo, Sangeetha (20 June 2024). \"Djordje Stojiljkovic: Each sub-world of 'Kalki 2898 AD' deserved a distinct visual treatment\". The Hindu. Archived from the original on 28 June 2024. Retrieved 30 June 2024.\n",
      "\n",
      "^ \"Prabhas, Deepika Padukone's Project K producer reveals film is about 'modern-day avatar of Vishnu': 'Everything you see in it will leave you stunned'\". The Indian Express. 27 February 2023. Retrieved 14 September 2024.\n",
      "\n",
      "^ \"Who Is Andy Long? The Man Who Choreographed Stunts In Kalki 2898 AD\". News18. 7 July 2024. Retrieved 14 September 2024.\n",
      "\n",
      "^ Kumar, Karthik (22 September 2020). \"Singeetham Srinivasa Rao joins Prabhas and Deepika Padukone's next with director Nag Ashwin\". Hindustan Times. Archived from the original on 8 June 2022.\n",
      "\n",
      "^ Prakash, B. V. S. (5 May 2024). \"Singeetam Srinivasa Rao Lord Krishna story in Kalki 2898AD?\". Deccan Chronicle. Retrieved 4 January 2025.\n",
      "\n",
      "^ \"Project K: Prabhas is ready to fight as a rebel in first look from Nag Ashwin film\". Hindustan Times. 19 July 2023. Archived from the original on 19 July 2023. Retrieved 19 July 2023.\n",
      "\n",
      "^ \"Prabhas debuts NEW 'Kalki 2898 AD' look in promo ad; fans think he looks like 'Batman'\". The Times of India. 1 May 2024. ISSN 0971-8257. Archived from the original on 2 May 2024. Retrieved 27 June 2024.\n",
      "\n",
      "^ \"Prabhas and Deepika Padukone to star in Nag Ashwin's film\". The Indian Express. 19 July 2020. Archived from the original on 8 June 2022. Retrieved 27 June 2024.\n",
      "\n",
      "^ K. Jha, Subhash (22 July 2020). \"Deepika Padukone charges Rs. 20 cr to feature in the Prabhas starrer; becomes the highest paid actress\". Bollywood Hungama. Archived from the original on 8 June 2022.\n",
      "\n",
      "^ Jha, Subhash K. (27 November 2020). \"Amitabh Bachchan will feature in a full length role in Prabhas and Deepika Padukone starrer film\". Bollywood Hungama. Archived from the original on 8 June 2022.\n",
      "\n",
      "^ \"Amitabh Bachchan joins Prabhas, Deepika Padukone in Nag Ashwin's untitled multilingual project\". Firstpost. 9 October 2020. Archived from the original on 17 August 2022.\n",
      "\n",
      "^ a b Ramachandran, Naman (25 June 2023). \"Kamal Haasan Joins Prabhas, Deepika Padukone and Amitabh Bachchan on Cast of 'Project K'\". Variety. Archived from the original on 25 June 2023. Retrieved 27 June 2024.\n",
      "\n",
      "^ a b Features, C. E. (8 May 2022). \"Disha Patani joins the cast of Project K\". Cinema Express. Archived from the original on 8 June 2022. Retrieved 27 June 2024.\n",
      "\n",
      "^ Krishnamoorthy, Suresh (25 May 2015). \"With Cheekati Raajyam, Kamal returns to Telugu\". The Hindu. Archived from the original on 13 July 2017. Retrieved 4 June 2015.\n",
      "\n",
      "^ Sistu, Suhas (1 March 2024). \"Rajendra Prasad joins stellar cast in Prabhas' 'Kalki 2898 AD'\". thehansindia.com. Archived from the original on 3 March 2024. Retrieved 27 June 2024.\n",
      "\n",
      "^ \"Kalki 2898 AD: Malayalam actor Shobana joins cast of Prabhas-starrer, makers unveil new poster\". indiatvnews.com. 19 June 2024. Archived from the original on 28 June 2024. Retrieved 27 June 2024.\n",
      "Source: {'source': 'https://en.wikipedia.org/wiki/Kalki_2898_AD', 'title': 'Kalki 2898 AD - Wikipedia', 'language': 'en'}\n",
      "--------------------------------------------------------------------------------\n",
      "\n",
      "💡 Notice how the search finds semantically relevant content\n",
      "   even if the exact words 'plot' don't appear in the results!\n"
     ]
    }
   ],
   "source": [
    "# Test 1: Search for plot information\n",
    "query = \"What is the plot of Kalki 2898 AD?\"\n",
    "results = vector_store.similarity_search(query, k=3)  # Get top 3 most similar chunks\n",
    "\n",
    "for i, result in enumerate(results, 1):\n",
    "    print(f\"📄 CHUNK {i}:\")\n",
    "    print(f\"Content: {result.page_content}\")\n",
    "    print(f\"Source: {result.metadata}\")\n",
    "    print(\"-\" * 80)\n",
    "\n",
    "print(f\"\\n💡 Notice how the search finds semantically relevant content\")\n",
    "print(\"   even if the exact words 'plot' don't appear in the results!\")"
   ]
  },
  {
   "cell_type": "code",
   "execution_count": 10,
   "id": "13916aee",
   "metadata": {},
   "outputs": [
    {
     "name": "stdout",
     "output_type": "stream",
     "text": [
      "📄 CHUNK 1:\n",
      "Content: ^ \"'Theme Of Kalki' Song From 'Kalki 2898 AD' Is An 'Ode To Lord Krishna' – WATCH Video\". The Times of India. 25 June 2024. Archived from the original on 25 June 2024. Retrieved 25 June 2024.\n",
      "\n",
      "^ \"Ta Takkara Complex Song from Kalki 2898 AD: Prabhas, Disha Patani live out their dreams\". Hindustan Times. 29 June 2024. Archived from the original on 29 June 2024. Retrieved 29 June 2024.\n",
      "\n",
      "^ \"Hope of Shambala song from Kalki 2898 AD out\". Cinema Express. 5 July 2024. Archived from the original on 12 July 2024. Retrieved 5 July 2024.\n",
      "\n",
      "^ \"Kickstart Your Day With The #Kalki2898AD Album\". X (formerly Twitter). Archived from the original on 22 August 2024. Retrieved 22 August 2024.\n",
      "\n",
      "^ \"Kalki 2898 AD (Telugu)\". Spotify. Archived from the original on 10 July 2024. Retrieved 10 July 2024.\n",
      "\n",
      "^ \"Internet unhappy with Prabhas' first look from 'Project K', call him 'sasta Iron man'\". India Today. 19 July 2023. Archived from the original on 21 July 2023. Retrieved 21 July 2023.\n",
      "\n",
      "^ \"Prabhas' Project K Comic-Art Version Unveiled At San Diego Comic-Con! Take A Glimpse Into The Heroic Narrative\". SpotboyE. Archived from the original on 26 September 2023. Retrieved 31 May 2024.\n",
      "\n",
      "^ Ramachandran, Naman (20 July 2023). \"Prabhas, Deepika Padukone Sci-Fi Film 'Kalki 2898 AD' Teaser Unveiled at San Diego Comic-Con\". Variety. Archived from the original on 21 July 2023. Retrieved 21 July 2023.\n",
      "\n",
      "^ \"Prabhas Was \"Bored\" Of The Blue Screen And Then Kalki 2898-AD Teaser Happened\". NDTV.com. Archived from the original on 21 July 2023. Retrieved 21 July 2023.\n",
      "\n",
      "^ \"'Kalki 2898 AD': Prabhas' First Look Poster and Character Name Out\". TheQuint. 9 March 2024. Archived from the original on 9 March 2024. Retrieved 9 March 2024.\n",
      "\n",
      "^ Pait Chowdhury, Madhumanti (8 March 2024). \"Kalki 2898 AD New Poster: Presenting Bhairava AKA Prabhas From The \"Future Streets Of Kasi\"\". NDTV. Archived from the original on 9 March 2024. Retrieved 9 March 2024.\n",
      "\n",
      "^ Narain, Yatamanyu (21 April 2024). \"Kalki 2898 AD: Amitabh Bachchan Looks Mysterious As Immortal 'Ashwatthama' In FIRST Teaser\". News18. Archived from the original on 21 April 2024. Retrieved 21 April 2024.\n",
      "\n",
      "^ \"Kalki 2898 AD Update: Prabhas And Deepika Padukone's Film Locks New Release Date\". NDTV.com. Archived from the original on 11 May 2024. Retrieved 11 May 2024.\n",
      "\n",
      "^ \"Watch: Prabhas surprises audience as Bhairava from 'Kalki 2898 AD' during IPL\". India Today. 1 May 2024. Archived from the original on 11 May 2024. Retrieved 11 May 2024.\n",
      "\n",
      "^ Gupta, Hardika (3 May 2024). \"Amitabh Bachchan As Ashwatthama Motivates Team India Ahead Of T20 World Cup 2024. Watch\". NDTV. Archived from the original on 11 May 2024. Retrieved 11 May 2024.\n",
      "\n",
      "^ Nyayapati, Neeshita (22 May 2024). \"Kalki 2898 AD: Prabhas' sidekick Bujji's 'body' introduced with new teaser at an event. Watch\". Hindustan Times. Archived from the original on 22 May 2024. Retrieved 22 May 2024.\n",
      "\n",
      "^ \"How Prabhas' Kalki 2898 AD Partner \"Bujji\" Was Born? Anand Mahindra Reveals\". NDTV. 24 May 2024. Archived from the original on 24 May 2024. Retrieved 24 May 2024.\n",
      "\n",
      "^ \"Bujji and Bhairava's animated prelude from Prabhas-starrer Kalki 2898 AD to release soon. Watch\". Hindustan Times. 27 May 2024. Archived from the original on 27 May 2024. Retrieved 27 May 2024.\n",
      "\n",
      "^ \"Kalki 2898 AD prelude titled Bujji and Bhairava; to start streaming from this date\". The Indian Express. 27 May 2024. Archived from the original on 27 May 2024. Retrieved 27 May 2024.\n",
      "\n",
      "^ Sharma, Devansh (10 June 2024). \"Kalki 2898 AD trailer: Prabhas, Deepika Padukone sci-fi film is packed with action and worldbuilding. Watch\". Hindustan Times. Archived from the original on 10 June 2024. Retrieved 10 June 2024.\n",
      "\n",
      "^ Rawal, Sugandha (13 June 2024). \"Kalki 2898 AD scene stolen from South Korean artiste's artwork? Internet advises him to sue production team\". Hindustan Times. Archived from the original on 13 June 2024. Retrieved 13 June 2024.\n",
      "Source: {'source': 'https://en.wikipedia.org/wiki/Kalki_2898_AD', 'title': 'Kalki 2898 AD - Wikipedia', 'language': 'en'}\n",
      "--------------------------------------------------------------------------------\n",
      "📄 CHUNK 2:\n",
      "Content: Future\n",
      "In late May 2024, it was reported that the film would have a sequel. On 26 June 2024, a day prior to the film's release, Ashwin commented on Kalki 2898 AD: Part 2 and stated that it would begin in three years.[186] During mid-credits of the film, it was revealed to be part of a media franchise named Kalki Cinematic Universe which had earlier been teased in Bujji and Bhairava, a prequel series released prior to the film.[187][57] On 29 June 2024, producer C. Aswani Dutt announced that 60% of the filming for Kalki 2898 AD: Part 2 has been completed, with several major segments still remaining to be shot.[188][189] Filming is scheduled to start before 2026.[190]\n",
      "\n",
      "See also\n",
      "Science fiction films in India\n",
      "List of science fiction films of the 2020s\n",
      "1000 Crore Club\n",
      "Notes\n",
      "\n",
      "\n",
      "^ Multiple references:[2][3][4]\n",
      "\n",
      "^ a b c Kalki 2898 AD's reported worldwide grosses vary between ₹1,042 (The Financial Express (India)[158]) –₹1,052.5 crore (ThePrint[159]) –₹1,100 crore (Deccan Chronicle,[160] Business Standard,[161] Deccan Herald,[162] Hindustan Times[163] and The Statesman[164]) – ₹1200 crore (Hindustan Times[165])\n",
      "\n",
      "^ The character's name is a reference to Sirius Black from J. K. Rowling's Harry Potter franchise.[12]\n",
      "\n",
      "^ AI assistant Bujji has been interpreted as a reference to Kala Bhairava's vahana Shvana.\n",
      "\n",
      "^ While Cheekati Rajyam (2015) was his last Telugu film, his last straight Telugu film was Subha Sankalpam.[53]\n",
      "\n",
      "^ The CBFC certificate of the Hindi version  indicates that it is a dubbed version.[80]\n",
      "\n",
      "\n",
      "References\n",
      "\n",
      "\n",
      "^ \"Kalki 2898 AD\". ecinepramaan.gov.in. Archived from the original on 22 August 2024. Retrieved 22 August 2024.\n",
      "\n",
      "^ \"Kalki 2898 AD day 4 box office collection: Prabhas-starrer beats SRK's Jawan, mints ₹555 crore worldwide\". CNBC. 1 July 2024. Archived from the original on 2 July 2024. Retrieved 1 July 2024.\n",
      "\n",
      "^ \"Project K: From Prabhas to Deepika Padukone, here's how much actors are getting paid\". Pinkvilla. 26 June 2023. Archived from the original on 26 June 2023. Retrieved 26 June 2023. Reportedly, 600 crores is being spent to make this multi-starrer film.\n",
      "\n",
      "^ Prakash, B. V. S. (10 June 2024). \"Whopping Budget for Kalki 2898 AD in Two Parts\". Deccan Chronicle. Archived from the original on 27 June 2024. Retrieved 27 June 2024.\n",
      "\n",
      "^ Ramachandran, Naman (31 December 2024). \"'Kalki 2898 AD' Producers Reflect on Global Impact Ahead of Japan Release (EXCLUSIVE)\". Variety. Retrieved 3 January 2025. Vyjayanthi Movies' ambitious Indian sci-fi mythological epic \"Kalki 2898 AD\" made waves in 2024 .....\n",
      "\n",
      "^ Nag Ashwin: \"When you make a mytho sci-fi with big stars, you can't afford to…\". Bollywood Hungama. 5 July 2024.  Event occurs at 2:05. Retrieved 10 February 2025 – via YouTube.\n",
      "\n",
      "^ Jha, Subhash K (1 July 2024). \"Prabhas, Kamal Haasan Paid Rs 100 Crore For Kalki!\". Rediff. Archived from the original on 2 July 2024. Retrieved 2 July 2024.\n",
      "\n",
      "^ \"How Tollywood Smash Hit 'Kalki 2898 AD' Is Leading the Telugu Cinema Box Office Surge\". The Hollywood Reporter. 19 July 2024.\n",
      "\n",
      "^ Nasreen, Raisa (30 May 2025). \"Gaddar Telangana Film Awards: Adivi Sesh Thanks Telangana Government For Honouring Major, Expresses Gratitude To Mahesh Babu\". Times Now. Retrieved 30 May 2025.\n",
      "\n",
      "^ a b Kalki 2898 AD (in Telugu). India: Vyjayanthi Movies. 2024. Retrieved 22 August 2024 – via Amazon Prime Video.\n",
      "\n",
      "^ Sharma, Dishya (1 July 2024). \"Kalki 2898 AD: Sobhita Dhulipala Dubs For Deepika Padukone in Telugu Version? Here's What We Know\". News18. Archived from the original on 2 July 2024. Retrieved 2 July 2024.\n",
      "\n",
      "^ a b c \"Not Harry Potter, Nag Ashwin was inspired by these Hollywood films for Kalki 2898 AD\". India Today. 8 July 2024. Retrieved 3 July 2025.\n",
      "\n",
      "^ Nyayapati, Neeshita (28 June 2024). \"Fans decode who plays Lord Krishna in Kalki 2898 AD; actor calls it an 'honour'\". Hindustan Times. Archived from the original on 1 July 2024. Retrieved 29 July 2024.\n",
      "Source: {'source': 'https://en.wikipedia.org/wiki/Kalki_2898_AD', 'title': 'Kalki 2898 AD - Wikipedia', 'language': 'en'}\n",
      "--------------------------------------------------------------------------------\n",
      "📄 CHUNK 3:\n",
      "Content: ^ Maru, Vibha (21 June 2024). \"Exclusive | Hollywood concept artist reveals Kalki 2898 AD makers approached him, later copied his work in trailer: 'Too much of a coincidence'\". The Indian Express. Archived from the original on 22 June 2024. Retrieved 22 June 2024.\n",
      "\n",
      "^ \"Prabhas and Kamal Haasan in Mumbai to attend Kalki 2898 AD pre-release event. Watch\". Hindustan Times. 19 June 2024. Archived from the original on 19 June 2024. Retrieved 19 June 2024.\n",
      "\n",
      "^ \"Kalki 2898 AD Release Trailer: Prabhas, Amitabh Bachchan, Deepika Padukone, And Kamal Haasan Steal The Internet By Storm – WATCH\". The Times of India. 21 June 2024. Retrieved 21 June 2024.\n",
      "\n",
      "^ \"Theme Song Of Prabhas-Deepika Padukone-Starrer 'Kalki 2898 AD' To Be Unveiled In Mathura\". Outlook India. 23 June 2024. Archived from the original on 23 June 2024. Retrieved 24 June 2024.\n",
      "\n",
      "^ \"'Theme of Kalki', the next song from 'Kalki 2898 AD' to be unveiled at Lord Krishna's birthplace, Mathura\". The Times of India. 23 June 2024. ISSN 0971-8257. Archived from the original on 24 June 2024. Retrieved 24 June 2024.\n",
      "\n",
      "^ \"Big B apologises to Prabhas' fans: Don't massacre me after you see 'Kalki 2898 AD'\". India Today. 24 June 2024. Archived from the original on 24 June 2024. Retrieved 24 June 2024.\n",
      "\n",
      "^ \"Prabhas recalls his first conversation with Deepika Padukone: 'She asked me if I'm shy. I said....'\". Hindustan Times. 6 March 2022. Archived from the original on 8 June 2022.\n",
      "\n",
      "^ \"Prabhas' next with Nag Ashwin to go on floors from October. Release in 2022\". The Times of India. 8 May 2020. ISSN 0971-8257. Archived from the original on 29 July 2022. Retrieved 26 May 2024.\n",
      "\n",
      "^ \"Prabhas, Deepika Padukone, Amitabh Bachchan starrer Kalki 2898 AD to release on June 27\". Bollywood Hungama. 27 April 2024. Archived from the original on 27 April 2024. Retrieved 27 April 2024.\n",
      "\n",
      "^ \"Prabhas' Kalki 2898 AD mints over Rs 1 crore in advance booking in just one day\". The Times of India. 7 June 2024. ISSN 0971-8257. Archived from the original on 24 June 2024. Retrieved 27 June 2024.\n",
      "\n",
      "^ \"Prabhas' Kalki 2898 AD sees a major push in North America advance booking post trailer release; earns over Rs 6 crore in just 5 days\". The Times of India. 11 June 2024. ISSN 0971-8257. Archived from the original on 12 June 2024. Retrieved 27 June 2024.\n",
      "\n",
      "^ \"'Kalki 2898 AD' bookings: Makers share sales numbers for the Prabhas-starrer's premiere shows\". The Hindu. 26 June 2024. ISSN 0971-751X. Archived from the original on 27 June 2024. Retrieved 27 June 2024.\n",
      "\n",
      "^ \"Kalki 2898 AD Beats RRR; Becomes The Fastest Indian Film To Surpass $1 Million In Pre-Sales In The US\". Times Now. 13 June 2024. Archived from the original on 13 June 2024. Retrieved 27 June 2024.\n",
      "\n",
      "^ Frater, Patrick (3 September 2024). \"Busan Film Festival Sets Park Chan-wook Scripted Netflix Title 'Uprising' as Opener, Expands Program Despite Slashed Funding\". Variety. Retrieved 7 September 2024.\n",
      "\n",
      "^ \"'Kalki 2898 AD' to be screened at Busan International Film Festival\". Times of India. Retrieved 26 September 2024.\n",
      "\n",
      "^ Prakash, B. V. S. (20 November 2024). \"Kalki 2898 AD, 35 Chinna Katha Kaadu in IFFI race\". www.deccanchronicle.com.\n",
      "\n",
      "^ \"Press Release:Press Information Bureau\".\n",
      "\n",
      "^ \"x.com\".\n",
      "\n",
      "^ \"Prabhas' Kalki 2898 AD Nizam Rights Sold For a Record Price\". Times Now. 29 April 2024. Retrieved 29 April 2024.\n",
      "\n",
      "^ Santhosh, Vivek (12 June 2024). \"Dulquer Salmaan's Wayfarer Films has acquired the Kerala distribution rights for Prabhas-starrer Kalki 2898 AD\". Cinema Express. Archived from the original on 27 June 2024. Retrieved 27 June 2024.\n",
      "\n",
      "^ \"KVN Productions Bags Karnataka Distribution Rights For Prabhas-Starrer Kalki 2898 AD\". Times Now. 1 June 2024. Archived from the original on 1 June 2024. Retrieved 27 June 2024.\n",
      "\n",
      "^ \"AA Films Bets Big on Pan-India Films\". Deccan Chronicle. 16 April 2024. Archived from the original on 27 April 2024. Retrieved 16 April 2024.\n",
      "Source: {'source': 'https://en.wikipedia.org/wiki/Kalki_2898_AD', 'title': 'Kalki 2898 AD - Wikipedia', 'language': 'en'}\n",
      "--------------------------------------------------------------------------------\n",
      "\n",
      "🎯 Semantic Search Power:\n",
      "   - Query: 'who acted' → Finds content about actors/cast\n",
      "   - Works even with different phrasing\n",
      "   - Understands context and meaning, not just keywords\n"
     ]
    }
   ],
   "source": [
    "# Test 2: Search for cast information  \n",
    "query = \"who acted in Kalki 2898 AD?\"\n",
    "results = vector_store.similarity_search(query, k=3)\n",
    "\n",
    "for i, result in enumerate(results, 1):\n",
    "    print(f\"📄 CHUNK {i}:\")\n",
    "    print(f\"Content: {result.page_content}\")\n",
    "    print(f\"Source: {result.metadata}\")\n",
    "    print(\"-\" * 80)\n",
    "\n",
    "print(f\"\\n🎯 Semantic Search Power:\")\n",
    "print(\"   - Query: 'who acted' → Finds content about actors/cast\")\n",
    "print(\"   - Works even with different phrasing\")\n",
    "print(\"   - Understands context and meaning, not just keywords\")"
   ]
  },
  {
   "cell_type": "code",
   "execution_count": 11,
   "id": "aded4960",
   "metadata": {},
   "outputs": [],
   "source": [
    "database_name = \"local_kalki_vector_store\"\n",
    "vector_store.save_local(database_name)"
   ]
  },
  {
   "cell_type": "markdown",
   "id": "257a01f1",
   "metadata": {},
   "source": [
    "# Stage 2: Production RAG Question-Answering System\n",
    "\n",
    "This stage demonstrates the **\"Retrieval + Generation\"** phase of RAG:\n",
    "1. **Load**: Restore saved vector database\n",
    "2. **Retrieve**: Find relevant context for user questions\n",
    "3. **Generate**: Use LLM + context to create answers\n",
    "4. **Chain**: Combine everything into seamless pipeline\n",
    "\n",
    "We'll build a complete movie Q&A system that can answer questions about Kalki 2898 AD using the knowledge we extracted and indexed in Stage 1."
   ]
  },
  {
   "cell_type": "code",
   "execution_count": 12,
   "id": "9eb53968",
   "metadata": {},
   "outputs": [],
   "source": [
    "vector_store = FAISS.load_local(\n",
    "    database_name,                    # Database directory name\n",
    "    embeddings,                             # Same embedding model used to create it\n",
    "    allow_dangerous_deserialization=True    # Required for loading pickled objects\n",
    ")"
   ]
  },
  {
   "cell_type": "code",
   "execution_count": 13,
   "id": "cc2bfa81",
   "metadata": {},
   "outputs": [],
   "source": [
    "prompt_template = ChatPromptTemplate.from_template(\n",
    "    \"\"\"you are a helpful and comic assistant that help users to find the answers in fun way based on given context.\n",
    "       \n",
    "       IMPORTANT RAG INSTRUCTIONS:\n",
    "       - Use ONLY the information provided in the context below\n",
    "       - If the context doesn't contain enough information to answer the question, say: \"I don't have enough info on this :(\"\n",
    "       - Do not make up information or use knowledge outside the provided context\n",
    "       - Be helpful and engaging while staying factually accurate\n",
    "       \n",
    "       ----\n",
    "       Context: {context}\n",
    "       ----\n",
    "       Question: {question}\n",
    "       \n",
    "       Remember: Base your answer ONLY on the context provided above!\n",
    "    \"\"\"\n",
    ")"
   ]
  },
  {
   "cell_type": "markdown",
   "id": "16b51eeb",
   "metadata": {},
   "source": [
    "### Building the Context-Aware Chain\n",
    "\n",
    "This chain configuration includes important optimizations:\n",
    "- **Limited Retrieval**: `k=2` prevents context overflow\n",
    "- **Smart Retrieval**: Gets most relevant chunks only\n",
    "- **Token Management**: Stays within model limits\n",
    "- **Quality Balance**: Maintains answer quality with less context"
   ]
  },
  {
   "cell_type": "code",
   "execution_count": 14,
   "id": "203c28d5",
   "metadata": {},
   "outputs": [],
   "source": [
    "chain = (\n",
    "    {\n",
    "        # Retrieval: Convert vector store to retriever and get relevant context\n",
    "        # k=2 limits to 2 most relevant chunks to avoid context overflow\n",
    "        \"context\": vector_store.as_retriever(search_kwargs={\"k\": 2}),\n",
    "        \n",
    "        # Pass-through: Forward the question unchanged to the prompt\n",
    "        \"question\": RunnablePassthrough(),\n",
    "    }\n",
    "    | prompt_template        # Format the prompt with context and question\n",
    "    | llm                   # Generate response using LM Studio\n",
    "    | StrOutputParser(keep_whitespace=True)  # Parse to clean string output\n",
    ")"
   ]
  },
  {
   "cell_type": "markdown",
   "id": "a6e8b9c4",
   "metadata": {},
   "source": [
    "## Step 3: Testing the Complete RAG System\n",
    "\n",
    "Now we'll test our production RAG system with various types of questions to demonstrate different scenarios:\n",
    "\n",
    "### Test Categories:\n",
    "1. **Information Available**: Questions answerable from our knowledge base\n",
    "2. **Information Unavailable**: Questions about different topics  \n",
    "3. **Partial Information**: Questions with limited context\n",
    "4. **Specific Details**: Questions requiring precise retrieval"
   ]
  },
  {
   "cell_type": "code",
   "execution_count": 15,
   "id": "ac05deaf",
   "metadata": {},
   "outputs": [
    {
     "name": "stdout",
     "output_type": "stream",
     "text": [
      "Okay, let's see who stars in \"Kalki 2898 AD\" according to what I've got here!\n",
      "\n",
      "Based on the text, the main actors are:\n",
      "\n",
      "*   **Prabhas**\n",
      "*   **Deepika Padukone**\n",
      "*   **Kamal Haasan**\n",
      "\n",
      "The text also mentions that **Sobhita Dhulipala** dubbed for Deepika Padukone in the Telugu version.\n",
      "\n",
      "Hope this helps! ✨\n",
      "======================================================================\n",
      "✅ Analysis:\n",
      "   - Chain retrieved relevant context about cast\n",
      "   - LLM generated answer based only on retrieved information\n",
      "   - Response maintains engaging tone while being factual\n",
      "   - Information is directly sourced from our vector database\n"
     ]
    }
   ],
   "source": [
    "question = \"who all are main actors in Kalki 2898 AD?\"\n",
    "response = chain.invoke(input=question)\n",
    "print(response)\n",
    "\n",
    "print(\"=\"*70)\n",
    "print(\"✅ Analysis:\")\n",
    "print(\"   - Chain retrieved relevant context about cast\")\n",
    "print(\"   - LLM generated answer based only on retrieved information\")\n",
    "print(\"   - Response maintains engaging tone while being factual\")\n",
    "print(\"   - Information is directly sourced from our vector database\")"
   ]
  },
  {
   "cell_type": "markdown",
   "id": "e3e986e2",
   "metadata": {},
   "source": [
    "### Test 2: Information NOT in Knowledge Base\n",
    "Testing with a different movie (Delhi 6) that's not in our database. This should trigger our fallback response."
   ]
  },
  {
   "cell_type": "code",
   "execution_count": 16,
   "id": "5e5d5426",
   "metadata": {},
   "outputs": [
    {
     "name": "stdout",
     "output_type": "stream",
     "text": [
      "I don't have enough info on this :(\n",
      "\n",
      "The context I have is all about \"Kalki 2898 AD\", not a movie called \"Delhi6\". I can tell you who the main actors are in *Kalki 2898 AD* though! They include:\n",
      "\n",
      "*   Prabhas\n",
      "*   Deepika Padukone\n",
      "*   Amitabh Bachchan\n",
      "\n",
      "\n",
      "\n",
      "\n"
     ]
    }
   ],
   "source": [
    "response = chain.invoke(input=\"who all are main actors in Delhi6?\")\n",
    "print(response)"
   ]
  },
  {
   "cell_type": "markdown",
   "id": "dd13d427",
   "metadata": {},
   "source": [
    "### Test 3: Specific Information Retrieval\n",
    "Testing for specific details like release date that require precise information extraction."
   ]
  },
  {
   "cell_type": "code",
   "execution_count": 17,
   "id": "8e4528ac",
   "metadata": {},
   "outputs": [
    {
     "name": "stdout",
     "output_type": "stream",
     "text": [
      "Okay, buckle up for some movie release info! 🎬\n",
      "\n",
      "According to my intel (aka the context you gave me), **Kalki 2898 AD** was released worldwide on **27 June 2024** in standard, IMAX and 3D formats.\n",
      "\n",
      "It was *originally* scheduled for May 9th, but got postponed! Glad it finally made its debut though! 🎉\n",
      "\n"
     ]
    }
   ],
   "source": [
    "response = chain.invoke(input=\"when Kalki 2898 AD movie released?\")\n",
    "print(response)"
   ]
  },
  {
   "cell_type": "markdown",
   "id": "87fbdca6",
   "metadata": {},
   "source": [
    "### Test 4: Complex Analysis Questions\n",
    "Testing with questions that require analysis or interpretation of available information."
   ]
  },
  {
   "cell_type": "code",
   "execution_count": 18,
   "id": "d1a22fab",
   "metadata": {},
   "outputs": [
    {
     "name": "stdout",
     "output_type": "stream",
     "text": [
      "Hmm, that's a tricky one! The documents talk *a lot* about the movie – rights sold for record prices, advance bookings smashing records... but I don't see anything specifically mentioning if it went over budget. \n",
      "\n",
      "It seems like they were confident enough to sell those rights for big bucks, so maybe it stayed on track? But I can't say for sure! 🕵️‍♂️\n",
      "\n",
      "\n",
      "\n",
      "\n"
     ]
    }
   ],
   "source": [
    "response = chain.invoke(input=\"was this movie over budget?\")\n",
    "print(response)"
   ]
  },
  {
   "cell_type": "markdown",
   "id": "e9e1306e",
   "metadata": {},
   "source": [
    "## Summary\n",
    "\n",
    "You've successfully built a complete production RAG system! You've mastered:\n",
    "\n",
    "✅ **End-to-End RAG Pipeline**: From web data to AI answers  \n",
    "✅ **Vector Database Management**: FAISS indexing and persistence  \n",
    "✅ **Context Window Optimization**: Handling token limits effectively  \n",
    "✅ **Semantic Search**: Finding relevant content automatically  \n",
    "✅ **Production Considerations**: Real-world deployment challenges  \n",
    "\n",
    "## Key Concepts Learned\n",
    "\n",
    "- **FAISS Vector Database**: Fast, scalable similarity search\n",
    "- **WebBaseLoader**: Extract and chunk web content automatically\n",
    "- **Context Window Management**: Critical for production RAG systems\n",
    "- **Retrieval Optimization**: Balancing relevance and token limits\n",
    "- **Persistent Storage**: Save and reload vector databases\n",
    "\n",
    "## RAG Architecture\n",
    "\n",
    "### Stage 1: Indexing Pipeline\n",
    "```\n",
    "Web Content → Load → Split → Embed → Store → Persist\n",
    "```\n",
    "\n",
    "### Stage 2: Query Pipeline\n",
    "```\n",
    "User Question → Retrieve → Format → Generate → Respond\n",
    "```\n",
    "\n",
    "\n",
    "### 1. Context Window Limitations\n",
    "- **Problem**: Models have token limits (4096, 8192, etc.)\n",
    "- **Solution**: Limit retrieval with `search_kwargs={\"k\": 2}`\n",
    "- **Result**: Balanced context quality and token efficiency\n",
    "\n",
    "### 2. Relevance vs Quantity\n",
    "- **Problem**: More context isn't always better\n",
    "- **Solution**: Smart retrieval focusing on most relevant chunks\n",
    "- **Result**: Higher quality answers with focused context\n",
    "\n",
    "### 3. Scalability\n",
    "- **Problem**: Large document collections need efficient search\n",
    "- **Solution**: FAISS vector database with semantic indexing\n",
    "- **Result**: Fast similarity search across millions of documents\n",
    "\n",
    "## Production Best Practices\n",
    "\n",
    "- **Chunk Size**: Balance detail vs context window\n",
    "- **Retrieval Count**: Start with k=2-3, adjust based on model capacity\n",
    "- **Embedding Quality**: Use appropriate embedding models for domain\n",
    "- **Error Handling**: Graceful degradation when context exceeds limits\n",
    "- **Monitoring**: Track retrieval quality and response accuracy"
   ]
  }
 ],
 "metadata": {
  "kernelspec": {
   "display_name": ".venv",
   "language": "python",
   "name": "python3"
  },
  "language_info": {
   "codemirror_mode": {
    "name": "ipython",
    "version": 3
   },
   "file_extension": ".py",
   "mimetype": "text/x-python",
   "name": "python",
   "nbconvert_exporter": "python",
   "pygments_lexer": "ipython3",
   "version": "3.12.8"
  }
 },
 "nbformat": 4,
 "nbformat_minor": 5
}
