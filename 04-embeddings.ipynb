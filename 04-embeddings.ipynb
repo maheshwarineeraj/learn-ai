{
 "cells": [
  {
   "cell_type": "markdown",
   "id": "ab62f901",
   "metadata": {},
   "source": [
    "# LangChain Embeddings: Text to Vectors\n",
    "\n",
    "## Overview\n",
    "This notebook introduces embeddings - the foundation of semantic search and advanced RAG systems. You'll learn how to convert text into numerical vectors that capture semantic meaning.\n",
    "\n",
    "## Learning Objectives\n",
    "- Understand what embeddings are and why they're important\n",
    "- Convert text into numerical vector representations\n",
    "- Work with both single queries and document collections\n",
    "- Learn the relationship between embeddings and similarity search\n",
    "- Prepare for advanced RAG with vector databases\n",
    "\n",
    "## Key Concepts\n",
    "- **Embeddings**: Numerical vector representations of text\n",
    "- **Semantic Similarity**: Vectors with similar meaning are close in vector space\n",
    "- **Vector Dimensions**: The size/complexity of embedding representations\n",
    "- **Batch Processing**: Handling multiple documents efficiently"
   ]
  },
  {
   "cell_type": "markdown",
   "id": "4aaf9876",
   "metadata": {},
   "source": [
    "## What Are Embeddings?\n",
    "\n",
    "Embeddings convert text into numerical vectors that capture semantic meaning. Think of them as \"coordinates\" in a high-dimensional space where similar concepts are located near each other.\n",
    "\n",
    "### Real-World Analogy:\n",
    "- **GPS Coordinates**: [40.7128, -74.0060] represents New York City\n",
    "- **Text Embeddings**: [0.2, -0.5, 0.8, ...] represents \"artificial intelligence\"\n",
    "\n",
    "### Why Embeddings Matter:\n",
    "- **Semantic Search**: Find content by meaning, not just keywords\n",
    "- **Similarity Comparison**: Measure how related two texts are\n",
    "- **RAG Enhancement**: Retrieve the most relevant context automatically\n",
    "- **Clustering**: Group similar documents together"
   ]
  },
  {
   "cell_type": "markdown",
   "id": "8cec723e",
   "metadata": {},
   "source": [
    "## Step 1: Environment Setup Options\n",
    "\n",
    "For embeddings, we have different approaches:\n",
    "- **Azure OpenAI** (commented out) - Cloud-based embedding models\n",
    "- **LM Studio** - Using simulated embeddings for learning\n",
    "\n",
    "Since LM Studio doesn't natively support embedding models, we'll use a deterministic fake embedding generator that produces consistent vectors for learning purposes."
   ]
  },
  {
   "cell_type": "code",
   "execution_count": 1,
   "id": "13428d99",
   "metadata": {},
   "outputs": [],
   "source": [
    "# # with Azure OpenAI and LangChain\n",
    "\n",
    "# from langchain_openai import AzureOpenAIEmbeddings\n",
    "\n",
    "# # Environment and configuration\n",
    "# from dotenv import load_dotenv\n",
    "# import os\n",
    "\n",
    "# # Load environment variables from .env file\n",
    "# load_dotenv()\n",
    "\n",
    "# embeddings = AzureOpenAIEmbeddings(\n",
    "#     deployment=\"text-embedding-3-large\",          # Deployment name in Azure\n",
    "#     azure_endpoint=os.getenv(\"AZURE_OPENAI_ENDPOINT\"),      # Your Azure endpoint\n",
    "#     api_version=os.getenv(\"AZURE_OPENAI_API_VERSION\"),      # API version\n",
    "#     api_key=os.getenv(\"AZURE_OPENAI_API_KEY\"),              # Authentication key\n",
    "# )"
   ]
  },
  {
   "cell_type": "markdown",
   "id": "78e89b83",
   "metadata": {},
   "source": [
    "### Option 1: Azure OpenAI Embeddings (Commented Out)\n",
    "Azure provides high-quality embedding models like `text-embedding-3-large` with 3072 dimensions for production use."
   ]
  },
  {
   "cell_type": "markdown",
   "id": "4e810583",
   "metadata": {},
   "source": [
    "### Option 2: Deterministic Fake Embeddings (Active)\n",
    "For learning purposes, we use simulated embeddings that generate consistent 4096-dimensional vectors. This allows us to understand embedding concepts without requiring external embedding services."
   ]
  },
  {
   "cell_type": "code",
   "execution_count": 47,
   "id": "77a49722",
   "metadata": {},
   "outputs": [],
   "source": [
    "# with local LM Studio and LangChain\n",
    "\n",
    "from langchain_core.embeddings import DeterministicFakeEmbedding\n",
    "\n",
    "embeddings = DeterministicFakeEmbedding(size=4096)"
   ]
  },
  {
   "cell_type": "markdown",
   "id": "0e7f063e",
   "metadata": {},
   "source": [
    "## Step 2: Creating Single Query Embeddings\n",
    "\n",
    "The `embed_query()` method converts a single text string into a vector representation. This is typically used for:\n",
    "- **Search queries**: Converting user questions into vectors\n",
    "- **Single document processing**: Getting vectors for individual texts\n",
    "- **Similarity comparisons**: Measuring closeness between texts"
   ]
  },
  {
   "cell_type": "code",
   "execution_count": 48,
   "id": "3696a0c5",
   "metadata": {},
   "outputs": [
    {
     "name": "stdout",
     "output_type": "stream",
     "text": [
      "📏 Total dimensions in embedding: 4096\n"
     ]
    }
   ],
   "source": [
    "sample_text = \"This is small text document to be embedded.\"\n",
    "response = embeddings.embed_query(sample_text)\n",
    "dimensions = len(response)\n",
    "print(f\"📏 Total dimensions in embedding: {dimensions}\")"
   ]
  },
  {
   "cell_type": "markdown",
   "id": "0ca5d603",
   "metadata": {},
   "source": [
    "## Step 3: Batch Document Embeddings\n",
    "\n",
    "The `embed_documents()` method efficiently processes multiple texts at once. This is essential for:\n",
    "- **Document databases**: Converting entire document collections\n",
    "- **Batch processing**: Handling large amounts of text efficiently\n",
    "- **Vector databases**: Preparing documents for similarity search systems\n",
    "\n",
    "### Efficiency Benefits:\n",
    "- **Parallel Processing**: Multiple texts processed simultaneously\n",
    "- **API Optimization**: Fewer API calls for large datasets\n",
    "- **Memory Efficiency**: Better resource utilization"
   ]
  },
  {
   "cell_type": "code",
   "execution_count": 53,
   "id": "fcb07aac",
   "metadata": {},
   "outputs": [
    {
     "name": "stdout",
     "output_type": "stream",
     "text": [
      "📄 Total documents: 4\n",
      "📄 Total document dimensions: 4096\n"
     ]
    }
   ],
   "source": [
    "documents = [\n",
    "    \"This is small text document to be embedded.\",\n",
    "    \"This is another small text document to be embedded.\",\n",
    "    \"This is yet another small text document to be embedded.\",\n",
    "    \"This is the last small text document to be embedded.\"\n",
    "]\n",
    "\n",
    "# Generate embeddings for the documents\n",
    "document_embeddings = embeddings.embed_documents(documents)\n",
    "print(f\"📄 Total documents: {len(documents)}\")\n",
    "print(f\"📄 Total document dimensions: {len(document_embeddings[1])}\")"
   ]
  },
  {
   "cell_type": "markdown",
   "id": "f057a1af",
   "metadata": {},
   "source": [
    "## Understanding Vector Dimensions\n",
    "\n",
    "### What Are Dimensions?\n",
    "Each number in an embedding vector represents a \"feature\" or \"aspect\" of the text's meaning. More dimensions generally mean:\n",
    "- **Higher Precision**: More nuanced understanding of text meaning\n",
    "- **Better Similarity**: More accurate comparisons between texts\n",
    "- **Increased Complexity**: More computational resources required\n",
    "\n",
    "### Common Dimension Sizes:\n",
    "- **384 dimensions**: Lightweight models (sentence-transformers)\n",
    "- **1536 dimensions**: OpenAI text-embedding-ada-002\n",
    "- **3072 dimensions**: OpenAI text-embedding-3-large\n",
    "- **4096 dimensions**: Our simulation (learning purposes)"
   ]
  },
  {
   "cell_type": "markdown",
   "id": "1207e5c2",
   "metadata": {},
   "source": [
    "## Summary\n",
    "\n",
    "You've successfully learned the fundamentals of embeddings! You've mastered:\n",
    "\n",
    "✅ **Embedding Concepts**: Understood how text becomes numerical vectors  \n",
    "✅ **Single Query Processing**: Converted individual texts to embeddings  \n",
    "✅ **Batch Processing**: Efficiently handled multiple documents  \n",
    "✅ **Vector Dimensions**: Learned about embedding size and complexity  \n",
    "✅ **Practical Applications**: Prepared for similarity search and RAG  \n",
    "\n",
    "## Key Concepts Learned\n",
    "\n",
    "- **Embeddings**: Numerical representations that capture semantic meaning\n",
    "- **embed_query()**: Method for single text-to-vector conversion\n",
    "- **embed_documents()**: Efficient batch processing for multiple texts\n",
    "- **Vector Dimensions**: The size and complexity of embedding representations\n",
    "- **Deterministic Fake Embeddings**: Consistent vectors for learning and testing\n",
    "\n",
    "## How Embeddings Enable Advanced AI. \n",
    "\n",
    "### Semantic Search:\n",
    "```\n",
    "Query: \"artificial intelligence\"\n",
    "Similar Documents: \"machine learning\", \"neural networks\", \"AI\"\n",
    "Different Documents: \"cooking recipes\", \"travel guides\"\n",
    "```\n",
    "\n",
    "### Similarity Measurement:\n",
    "- Embeddings allow measuring how \"close\" texts are in meaning\n",
    "- Similar concepts have vectors pointing in similar directions\n",
    "- Distance calculations reveal semantic relationships\n",
    "\n",
    "## Real-World Applications\n",
    "\n",
    "- **Search Engines**: Find relevant content by meaning, not just keywords\n",
    "- **Recommendation Systems**: Suggest similar products or content\n",
    "- **Document Clustering**: Group related documents automatically\n",
    "- **RAG Systems**: Retrieve most relevant context for AI responses\n",
    "- **Question Answering**: Match questions to relevant information\n",
    "\n",
    "## Next Steps\n",
    "\n",
    "In the next notebook, you'll explore:\n",
    "- **Vector Databases**: Storing and searching large embedding collections\n",
    "- **Similarity Search**: Finding the most relevant documents automatically\n",
    "- **Production RAG**: Building complete retrieval systems with FAISS\n",
    "- **Web Data Integration**: Processing real websites for RAG systems"
   ]
  }
 ],
 "metadata": {
  "kernelspec": {
   "display_name": ".venv",
   "language": "python",
   "name": "python3"
  },
  "language_info": {
   "codemirror_mode": {
    "name": "ipython",
    "version": 3
   },
   "file_extension": ".py",
   "mimetype": "text/x-python",
   "name": "python",
   "nbconvert_exporter": "python",
   "pygments_lexer": "ipython3",
   "version": "3.12.8"
  }
 },
 "nbformat": 4,
 "nbformat_minor": 5
}
